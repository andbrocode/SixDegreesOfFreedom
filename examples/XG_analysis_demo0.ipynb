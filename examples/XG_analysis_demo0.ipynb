{
 "cells": [
  {
   "cell_type": "markdown",
   "id": "26ad060e",
   "metadata": {
    "ExecuteTime": {
     "end_time": "2022-09-13T00:35:24.926376Z",
     "start_time": "2022-09-13T00:35:24.923877Z"
    }
   },
   "source": [
    "# Analyse Event of G-ring Data"
   ]
  },
  {
   "cell_type": "markdown",
   "id": "f3abf85a",
   "metadata": {},
   "source": [
    "An earthquake in 2024 is analysed using the G-ring laser rotation data for the vertical component (thus only for Love waves), which are availible via FDSN services online."
   ]
  },
  {
   "cell_type": "code",
   "execution_count": 10,
   "id": "7ae027cf",
   "metadata": {
    "ExecuteTime": {
     "end_time": "2023-04-05T16:30:44.374156Z",
     "start_time": "2023-04-05T16:30:42.823021Z"
    },
    "tags": []
   },
   "outputs": [],
   "source": [
    "import os\n",
    "import yaml\n",
    "import numpy as np\n",
    "import matplotlib.pyplot as plt\n",
    "\n",
    "from obspy import UTCDateTime\n",
    "from sixdegrees.sixdegrees import sixdegrees\n",
    "\n",
    "from sixdegrees.plots.plot_backazimuth_results import plot_backazimuth_results\n",
    "from sixdegrees.plots.plot_velocities import plot_velocities\n",
    "from sixdegrees.plots.plot_waveform_cc import plot_waveform_cc\n",
    "from sixdegrees.plots.plot_cwt_all import plot_cwt_all"
   ]
  },
  {
   "cell_type": "markdown",
   "id": "a9cfd05f",
   "metadata": {},
   "source": [
    "## Configurations"
   ]
  },
  {
   "cell_type": "code",
   "execution_count": 11,
   "id": "ac232c73",
   "metadata": {},
   "outputs": [],
   "source": [
    "config = {\n",
    "    # Required time window parameters\n",
    "    'tbeg': \"2024-12-05 18:44:21\",  # Start time\n",
    "    'tend': \"2024-12-05 20:44:21\",  # End time\n",
    "\n",
    "    # event\n",
    "    'origin_time': \"2024-12-05 18:44:26\",\n",
    "    'magnitude': 7.0,\n",
    "\n",
    "    # SEED identifiers\n",
    "    'seed': \"XX.RLAS..\",     # seed ID of output stream\n",
    "    'rot_seed': [\"BW.RLAS..BJZ\"], # Rotation sensor seed ID\n",
    "    'tra_seed': [\"GR.WET..BHZ\", \"GR.WET..BHN\", \"GR.WET..BHE\"],  # Translation sensor seed ID\n",
    "    \n",
    "    # rotate to ZNE\n",
    "    'rotate_to_zne': False,\n",
    "\n",
    "    # Data source\n",
    "    'data_source': \"fdsn\",  # \"fdsn\" | \"sds\" | \"mseed_file\"\n",
    "\n",
    "    # FDSN client\n",
    "    'fdsn_client_rot': \"LMU\",  # \"IRIS\",\n",
    "    'fdsn_client_tra': \"BGR\",  # \"IRIS\",\n",
    "\n",
    "    # Path to local mseed file\n",
    "    # 'path_to_mseed_file': \"./data/G_eventM7.0.mseed\",  # \"./data/eventM62_6c.mseed\",\n",
    "\n",
    "    # Path to SDS for rotation and translation data\n",
    "    # 'path_to_sds_rot': \"/home/andbro/freenas/temp_archive/\",    # SDS path for rotation data\n",
    "    # 'path_to_sds_tra': \"/home/andbro/bay200/mseed_online/archive/\",  # SDS path for translation data\n",
    "\n",
    "    # Path to inventory of rotation and translation sensor\n",
    "    # 'path_to_inv_rot': \"/home/andbro/kilauea-data/stationxml_ringlaser/station_BW_RLAS.xml\",  # Rotation station inventory\n",
    "    # 'path_to_inv_tra': \"/home/andbro/kilauea-data/stationxml_ringlaser/station_GR_WET.xml\",  # Translation station inventory\n",
    "    \n",
    "    # Remove responses\n",
    "    'tra_remove_response': True,\n",
    "    'rot_remove_response': True,\n",
    "\n",
    "    # Path configurations\n",
    "    'workdir': \"./\",            # Working directory\n",
    "    'path_to_data_out': \"./output/\",  # Output directory\n",
    "\n",
    "    # Project information\n",
    "    'project': \"G_Analysis\",  # Project name\n",
    "    \n",
    "    # Optional parameters\n",
    "    'verbose': True,            # Print detailed information\n",
    "}"
   ]
  },
  {
   "cell_type": "markdown",
   "id": "2bd3b784",
   "metadata": {},
   "source": [
    "Alternatively load configuration from yaml file"
   ]
  },
  {
   "cell_type": "code",
   "execution_count": 12,
   "id": "3f610625",
   "metadata": {},
   "outputs": [],
   "source": [
    "# config = sixdegrees.load_from_yaml(\"config/config_G_M7.0_20241205.yml\")"
   ]
  },
  {
   "cell_type": "markdown",
   "id": "4888cc45",
   "metadata": {},
   "source": [
    "Setup a sixdegrees object"
   ]
  },
  {
   "cell_type": "code",
   "execution_count": 13,
   "id": "f150d040",
   "metadata": {},
   "outputs": [],
   "source": [
    "sd = sixdegrees(conf=config)"
   ]
  },
  {
   "cell_type": "markdown",
   "id": "d527061e",
   "metadata": {},
   "source": [
    "Store the configuration as a pickle file"
   ]
  },
  {
   "cell_type": "code",
   "execution_count": 14,
   "id": "9c16803e",
   "metadata": {},
   "outputs": [],
   "source": [
    "# sd.store_as_pickle(config, \"./event_configs/\"+f\"M{str(config['magnitude']).replace('.','')}_{config['tbeg'][:10].replace('-','')}\")"
   ]
  },
  {
   "cell_type": "markdown",
   "id": "ce7de7ed",
   "metadata": {},
   "source": [
    "This will load the data from the data source:\n",
    "- local mseed file\n",
    "- local sds system\n",
    "- fdsn (online)\n",
    "\n",
    "and trim it to the time window"
   ]
  },
  {
   "cell_type": "code",
   "execution_count": 15,
   "id": "3efe6fd0",
   "metadata": {},
   "outputs": [
    {
     "name": "stdout",
     "output_type": "stream",
     "text": [
      "-> fetching GR.WET..BHZ data from FDSN\n",
      "-> fetching GR.WET..BHN data from FDSN\n",
      "-> fetching GR.WET..BHE data from FDSN\n",
      "-> translation inventory requested: Inventory created at 2025-08-29T21:04:08.091763Z\n",
      "\tSending institution: SeisComP (BGR)\n",
      "\tContains:\n",
      "\t\tNetworks (1):\n",
      "\t\t\tGR\n",
      "\t\tStations (1):\n",
      "\t\t\tGR.WET (GRSN Station Wettzell)\n",
      "\t\tChannels (9):\n",
      "\t\t\tGR.WET..BHZ, GR.WET..BHN, GR.WET..BHE, GR.WET..HHZ, GR.WET..HHN, \n",
      "\t\t\tGR.WET..HHE, GR.WET..LHZ, GR.WET..LHN, GR.WET..LHE\n",
      "-> removing response: ACC\n",
      "3 Trace(s) in Stream:\n",
      "GR.WET..BHZ | 2024-12-05T18:44:20.020000Z - 2024-12-05T20:44:22.020000Z | 20.0 Hz, 144041 samples\n",
      "GR.WET..BHN | 2024-12-05T18:44:20.020000Z - 2024-12-05T20:44:22.020000Z | 20.0 Hz, 144041 samples\n",
      "GR.WET..BHE | 2024-12-05T18:44:20.020000Z - 2024-12-05T20:44:22.020000Z | 20.0 Hz, 144041 samples\n",
      "-> fetching BW.RLAS..BJZ data from FDSN\n",
      "-> removing sensitivity\n",
      "1 Trace(s) in Stream:\n",
      "BW.RLAS..BJZ | 2024-12-05T18:44:19.981749Z - 2024-12-05T20:44:21.981749Z | 20.0 Hz, 144041 samples\n"
     ]
    }
   ],
   "source": [
    "sd.load_data(config['tbeg'], config['tend'])"
   ]
  },
  {
   "cell_type": "markdown",
   "id": "d0a5319d",
   "metadata": {},
   "source": [
    "Get key information about the earthquake"
   ]
  },
  {
   "cell_type": "code",
   "execution_count": 16,
   "id": "0f082e3b",
   "metadata": {},
   "outputs": [
    {
     "name": "stdout",
     "output_type": "stream",
     "text": [
      "Found event:\n",
      "Origin time: 2024-12-05T18:44:21.110000Z\n",
      "Magnitude: 7.0 mw\n",
      "Location: 40.374°N, -125.022°E\n",
      "Depth: 10.0 km\n",
      "Epicentral Distance: 9264.5 km\n",
      "Epicentral Distance: 83.3°\n",
      "Backazimuth: 329.1°\n"
     ]
    }
   ],
   "source": [
    "try:\n",
    "    ev = sd.get_event_info(\n",
    "        origin_time=config['origin_time'],\n",
    "        base_catalog=\"USGS\",\n",
    "        magnitude=config['magnitude']\n",
    "    )\n",
    "except:\n",
    "    print(\"No event found\")\n"
   ]
  },
  {
   "cell_type": "markdown",
   "id": "937a9ec6",
   "metadata": {},
   "source": [
    "Ensure that all traces of stream have the same sample size"
   ]
  },
  {
   "cell_type": "code",
   "execution_count": 17,
   "id": "ba936356",
   "metadata": {},
   "outputs": [
    {
     "data": {
      "image/png": "[encoded data removed]",
      "text/plain": [
       "<Figure size 800x1000 with 4 Axes>"
      ]
     },
     "metadata": {},
     "output_type": "display_data"
    }
   ],
   "source": [
    "sd.st.plot(equal_scale=False);"
   ]
  },
  {
   "cell_type": "code",
   "execution_count": 18,
   "id": "83ace8fa",
   "metadata": {},
   "outputs": [],
   "source": [
    "sd.trim_stream(set_common=True, set_interpolate=False)"
   ]
  },
  {
   "cell_type": "markdown",
   "id": "742fca8e",
   "metadata": {},
   "source": [
    "### Write data to file or SDS system"
   ]
  },
  {
   "cell_type": "code",
   "execution_count": 10,
   "id": "a3ece018",
   "metadata": {},
   "outputs": [],
   "source": [
    "# write to mseed file\n",
    "# sd.st.write(f\"./data/G_eventM{config['magnitude']}.mseed\", format=\"MSEED\")\n",
    "\n",
    "# write to sds filesystem\n",
    "# sd.write_to_sds(sd.st, \"./data/\", format=\"MSEED\")"
   ]
  },
  {
   "cell_type": "markdown",
   "id": "d1bdc12f",
   "metadata": {},
   "source": [
    "## Analysis"
   ]
  },
  {
   "cell_type": "markdown",
   "id": "059caad4",
   "metadata": {},
   "source": [
    "### Wavelet Comparsion"
   ]
  },
  {
   "cell_type": "code",
   "execution_count": 11,
   "id": "51b6bac7",
   "metadata": {},
   "outputs": [
    {
     "name": "stdout",
     "output_type": "stream",
     "text": [
      "No N data for rotation\n",
      "No E data for rotation\n"
     ]
    }
   ],
   "source": [
    "# First compute CWT for all components\n",
    "cwt_results = {}\n",
    "for comp in ['Z', 'N', 'E']:\n",
    "\n",
    "    try:\n",
    "        # Rotation components\n",
    "        rot_data = sd.get_stream(\"rotation\").select(channel=f\"*{comp}\")[0]\n",
    "        component = rot_data.stats.channel\n",
    "        cwt_results[f\"{component}\"] = sd.compute_cwt(\n",
    "            rot_data.times(), rot_data.data, rot_data.stats.delta,\n",
    "            normalize=True\n",
    "        )\n",
    "    except:\n",
    "        print(f\"No {comp} data for rotation\")\n",
    "    try:\n",
    "        # Translation components\n",
    "        acc_data = sd.get_stream(\"translation\").select(channel=f\"*{comp}\")[0]\n",
    "        component = acc_data.stats.channel\n",
    "        cwt_results[f\"{component}\"] = sd.compute_cwt(\n",
    "            acc_data.times(), acc_data.data, acc_data.stats.delta,\n",
    "            normalize=True\n",
    "        )\n",
    "    except:\n",
    "        print(f\"No {comp} data for ranslation\")\n"
   ]
  },
  {
   "cell_type": "code",
   "execution_count": null,
   "id": "c49b98dd",
   "metadata": {},
   "outputs": [],
   "source": [
    "# Then plot all components\n",
    "fig = plot_cwt_all(\n",
    "    rot=sd.get_stream(\"rotation\").copy(),\n",
    "    acc=sd.get_stream(\"translation\").copy(),\n",
    "    cwt_output=cwt_results,\n",
    "    clog=True,\n",
    "    ylim=1\n",
    ")\n",
    "\n",
    "del fig"
   ]
  },
  {
   "cell_type": "markdown",
   "id": "6dce1cd9",
   "metadata": {},
   "source": [
    "Frequency band to filter (this is applied to the stream object after being reset to raw stream)"
   ]
  },
  {
   "cell_type": "code",
   "execution_count": 19,
   "id": "eb9d2a6b",
   "metadata": {},
   "outputs": [],
   "source": [
    "sd.filter_data(fmin=0.01, fmax=0.1, output=False)"
   ]
  },
  {
   "cell_type": "markdown",
   "id": "a9ad2a03",
   "metadata": {},
   "source": [
    "Apply polarity correction if needed. This is applied to the stream object that is processed. If raw is True, the polarity correction is applied to the raw stream too."
   ]
  },
  {
   "cell_type": "code",
   "execution_count": 20,
   "id": "2a3f770f",
   "metadata": {},
   "outputs": [],
   "source": [
    "sd.polarity_stream(pol_dict={\"HZ\": 1, \"JZ\": 1}, raw=True)"
   ]
  },
  {
   "cell_type": "markdown",
   "id": "bf424e70",
   "metadata": {},
   "source": [
    "Let's cut to the main event"
   ]
  },
  {
   "cell_type": "code",
   "execution_count": 21,
   "id": "faf11d42",
   "metadata": {},
   "outputs": [],
   "source": [
    "sd.trim(UTCDateTime(config['tbeg']) + 500, UTCDateTime(config['tend']) - 2000)"
   ]
  },
  {
   "cell_type": "markdown",
   "id": "247c5bef",
   "metadata": {},
   "source": [
    "Let's compare the waveforms of the rotation (red) and translational (black) components based on the cross-correlation in time windows"
   ]
  },
  {
   "cell_type": "code",
   "execution_count": 23,
   "id": "84928b5a",
   "metadata": {},
   "outputs": [
    {
     "ename": "TypeError",
     "evalue": "'NoneType' object cannot be interpreted as an integer",
     "output_type": "error",
     "traceback": [
      "\u001b[0;31m---------------------------------------------------------------------------\u001b[0m",
      "\u001b[0;31mTypeError\u001b[0m                                 Traceback (most recent call last)",
      "Cell \u001b[0;32mIn[23], line 1\u001b[0m\n\u001b[0;32m----> 1\u001b[0m fig \u001b[38;5;241m=\u001b[39m \u001b[43mplot_waveform_cc\u001b[49m\u001b[43m(\u001b[49m\n\u001b[1;32m      2\u001b[0m \u001b[43m    \u001b[49m\u001b[43mrot0\u001b[49m\u001b[38;5;241;43m=\u001b[39;49m\u001b[43msd\u001b[49m\u001b[38;5;241;43m.\u001b[39;49m\u001b[43mget_stream\u001b[49m\u001b[43m(\u001b[49m\u001b[38;5;124;43m\"\u001b[39;49m\u001b[38;5;124;43mrotation\u001b[39;49m\u001b[38;5;124;43m\"\u001b[39;49m\u001b[43m)\u001b[49m\u001b[38;5;241;43m.\u001b[39;49m\u001b[43mcopy\u001b[49m\u001b[43m(\u001b[49m\u001b[43m)\u001b[49m\u001b[43m,\u001b[49m\n\u001b[1;32m      3\u001b[0m \u001b[43m    \u001b[49m\u001b[43macc0\u001b[49m\u001b[38;5;241;43m=\u001b[39;49m\u001b[43msd\u001b[49m\u001b[38;5;241;43m.\u001b[39;49m\u001b[43mget_stream\u001b[49m\u001b[43m(\u001b[49m\u001b[38;5;124;43m\"\u001b[39;49m\u001b[38;5;124;43mtranslation\u001b[39;49m\u001b[38;5;124;43m\"\u001b[39;49m\u001b[43m)\u001b[49m\u001b[38;5;241;43m.\u001b[39;49m\u001b[43mcopy\u001b[49m\u001b[43m(\u001b[49m\u001b[43m)\u001b[49m\u001b[43m,\u001b[49m\n\u001b[1;32m      4\u001b[0m \u001b[43m    \u001b[49m\u001b[43mbaz\u001b[49m\u001b[38;5;241;43m=\u001b[39;49m\u001b[43mev\u001b[49m\u001b[43m[\u001b[49m\u001b[38;5;124;43m'\u001b[39;49m\u001b[38;5;124;43mbackazimuth\u001b[39;49m\u001b[38;5;124;43m'\u001b[39;49m\u001b[43m]\u001b[49m\u001b[43m,\u001b[49m\n\u001b[1;32m      5\u001b[0m \u001b[43m    \u001b[49m\u001b[43mdistance\u001b[49m\u001b[38;5;241;43m=\u001b[39;49m\u001b[43mev\u001b[49m\u001b[43m[\u001b[49m\u001b[38;5;124;43m'\u001b[39;49m\u001b[38;5;124;43mdistance_km\u001b[39;49m\u001b[38;5;124;43m'\u001b[39;49m\u001b[43m]\u001b[49m\u001b[43m,\u001b[49m\n\u001b[1;32m      6\u001b[0m \u001b[43m    \u001b[49m\u001b[43mfmin\u001b[49m\u001b[38;5;241;43m=\u001b[39;49m\u001b[43msd\u001b[49m\u001b[38;5;241;43m.\u001b[39;49m\u001b[43mfmin\u001b[49m\u001b[43m,\u001b[49m\u001b[43m \u001b[49m\n\u001b[1;32m      7\u001b[0m \u001b[43m    \u001b[49m\u001b[43mfmax\u001b[49m\u001b[38;5;241;43m=\u001b[39;49m\u001b[43msd\u001b[49m\u001b[38;5;241;43m.\u001b[39;49m\u001b[43mfmax\u001b[49m\u001b[43m,\u001b[49m\u001b[43m \u001b[49m\n\u001b[1;32m      8\u001b[0m \u001b[43m    \u001b[49m\u001b[43mtwin_sec\u001b[49m\u001b[38;5;241;43m=\u001b[39;49m\u001b[38;5;241;43m100\u001b[39;49m\u001b[43m,\u001b[49m\u001b[43m \u001b[49m\n\u001b[1;32m      9\u001b[0m \u001b[43m    \u001b[49m\u001b[43mtwin_overlap\u001b[49m\u001b[38;5;241;43m=\u001b[39;49m\u001b[38;5;241;43m0.5\u001b[39;49m\u001b[43m,\u001b[49m\n\u001b[1;32m     10\u001b[0m \u001b[43m    \u001b[49m\u001b[43mwave_type\u001b[49m\u001b[38;5;241;43m=\u001b[39;49m\u001b[38;5;124;43m'\u001b[39;49m\u001b[38;5;124;43mlove\u001b[39;49m\u001b[38;5;124;43m'\u001b[39;49m\u001b[43m,\u001b[49m\n\u001b[1;32m     11\u001b[0m \u001b[43m    \u001b[49m\u001b[38;5;66;43;03m# t1=sd.tbeg + 450,\u001b[39;49;00m\n\u001b[1;32m     12\u001b[0m \u001b[43m    \u001b[49m\u001b[38;5;66;43;03m# t2=sd.tend - 1800\u001b[39;49;00m\n\u001b[1;32m     13\u001b[0m \u001b[43m)\u001b[49m\n",
      "File \u001b[0;32m~/cursorfiles/sixdegrees/sixdegrees/plots/plot_waveform_cc.py:101\u001b[0m, in \u001b[0;36mplot_waveform_cc\u001b[0;34m(rot0, acc0, baz, fmin, fmax, wave_type, pol_dict, distance, runit, tunit, twin_sec, twin_overlap, unitscale, t1, t2)\u001b[0m\n\u001b[1;32m     98\u001b[0m acc \u001b[38;5;241m=\u001b[39m acc0\u001b[38;5;241m.\u001b[39mcopy()\n\u001b[1;32m    100\u001b[0m \u001b[38;5;28;01mif\u001b[39;00m \u001b[38;5;28misinstance\u001b[39m(t1, \u001b[38;5;28mstr\u001b[39m):\n\u001b[0;32m--> 101\u001b[0m     t1 \u001b[38;5;241m=\u001b[39m UTCDateTime(t1)\n\u001b[1;32m    102\u001b[0m \u001b[38;5;28;01mif\u001b[39;00m \u001b[38;5;28misinstance\u001b[39m(t2, \u001b[38;5;28mstr\u001b[39m):\n\u001b[1;32m    103\u001b[0m     t2 \u001b[38;5;241m=\u001b[39m UTCDateTime(t2)\n",
      "File \u001b[0;32m~/anaconda3/envs/obs2/lib/python3.10/site-packages/obspy/core/utcdatetime.py:451\u001b[0m, in \u001b[0;36mUTCDateTime.__init__\u001b[0;34m(self, *args, **kwargs)\u001b[0m\n\u001b[1;32m    448\u001b[0m     args \u001b[38;5;241m=\u001b[39m args[\u001b[38;5;241m0\u001b[39m:\u001b[38;5;241m5\u001b[39m]\n\u001b[1;32m    450\u001b[0m \u001b[38;5;28;01mtry\u001b[39;00m:  \u001b[38;5;66;03m# If a value Error is raised try to allow overflow (see #2222)\u001b[39;00m\n\u001b[0;32m--> 451\u001b[0m     dt \u001b[38;5;241m=\u001b[39m \u001b[43mdatetime\u001b[49m\u001b[38;5;241;43m.\u001b[39;49m\u001b[43mdatetime\u001b[49m\u001b[43m(\u001b[49m\u001b[38;5;241;43m*\u001b[39;49m\u001b[43margs\u001b[49m\u001b[43m,\u001b[49m\u001b[43m \u001b[49m\u001b[38;5;241;43m*\u001b[39;49m\u001b[38;5;241;43m*\u001b[39;49m\u001b[43mkwargs\u001b[49m\u001b[43m)\u001b[49m\n\u001b[1;32m    452\u001b[0m \u001b[38;5;28;01mexcept\u001b[39;00m \u001b[38;5;167;01mValueError\u001b[39;00m:\n\u001b[1;32m    453\u001b[0m     \u001b[38;5;28;01mif\u001b[39;00m \u001b[38;5;129;01mnot\u001b[39;00m strict:\n",
      "\u001b[0;31mTypeError\u001b[0m: 'NoneType' object cannot be interpreted as an integer"
     ]
    }
   ],
   "source": [
    "fig = plot_waveform_cc(\n",
    "    rot0=sd.get_stream(\"rotation\").copy(),\n",
    "    acc0=sd.get_stream(\"translation\").copy(),\n",
    "    baz=ev['backazimuth'],\n",
    "    distance=ev['distance_km'],\n",
    "    fmin=sd.fmin, \n",
    "    fmax=sd.fmax, \n",
    "    twin_sec=100, \n",
    "    twin_overlap=0.5,\n",
    "    wave_type='love',\n",
    "    # t1=sd.tbeg + 450,\n",
    "    # t2=sd.tend - 1800\n",
    ")"
   ]
  },
  {
   "cell_type": "markdown",
   "id": "5e97e8d6-d0b8-4a31-bf2c-6be8ec80d6b3",
   "metadata": {},
   "source": [
    "### Backazimuth Estimate"
   ]
  },
  {
   "cell_type": "markdown",
   "id": "63094816",
   "metadata": {},
   "source": [
    "Compute the backazimuth estimates in time windows for Love waves"
   ]
  },
  {
   "cell_type": "code",
   "execution_count": null,
   "id": "f54d0c71",
   "metadata": {},
   "outputs": [],
   "source": [
    "# First compute backazimuth\n",
    "baz_results = sd.compute_backazimuth(\n",
    "    wave_type='love',\n",
    "    baz_step=1,\n",
    "    baz_win_sec=100,\n",
    "    baz_win_overlap=0.5,\n",
    "    out=True\n",
    ")\n"
   ]
  },
  {
   "cell_type": "markdown",
   "id": "a25f634b",
   "metadata": {},
   "source": [
    "Plot the results of the backazimuth estimation using the midpoint approach"
   ]
  },
  {
   "cell_type": "code",
   "execution_count": null,
   "id": "f66239fc",
   "metadata": {},
   "outputs": [],
   "source": [
    "\n",
    "fig = plot_backazimuth_results(\n",
    "    sd, \n",
    "    baz_results,\n",
    "    baz_theo=ev['backazimuth'],\n",
    "    cc_threshold=0.5,\n",
    "    cc_method='mid'\n",
    ")"
   ]
  },
  {
   "cell_type": "markdown",
   "id": "82e8ed7c",
   "metadata": {},
   "source": [
    "Plot the results of the backazimuth estimation using the maximum CC approach"
   ]
  },
  {
   "cell_type": "code",
   "execution_count": null,
   "id": "2a76f126",
   "metadata": {},
   "outputs": [],
   "source": [
    "\n",
    "fig = plot_backazimuth_results(\n",
    "    sd, \n",
    "    baz_results,\n",
    "    baz_theo=ev['backazimuth'],\n",
    "    cc_threshold=0.5,\n",
    "    cc_method='max'\n",
    ")"
   ]
  },
  {
   "cell_type": "markdown",
   "id": "5a3b425a",
   "metadata": {},
   "source": [
    "### Analyse phase velocities"
   ]
  },
  {
   "cell_type": "markdown",
   "id": "b746024e",
   "metadata": {},
   "source": [
    "Compute the phase velocity estimates in time windows for Love waves using \n",
    "\n",
    "1) orthogonal distance regression (ODR)\n",
    "2) RANdom SAmple Consensus regression (RANSAC)"
   ]
  },
  {
   "cell_type": "code",
   "execution_count": null,
   "id": "b0298937",
   "metadata": {},
   "outputs": [],
   "source": [
    "# Compute Love wave velocities\n",
    "love_velocities = sd.compute_velocities(\n",
    "    wave_type='love',\n",
    "    win_time_s=50.0,\n",
    "    overlap=0.5,\n",
    "    cc_threshold=0.,\n",
    "    method='odr',\n",
    "    baz=ev['backazimuth']  # optional\n",
    ")\n"
   ]
  },
  {
   "cell_type": "code",
   "execution_count": null,
   "id": "02784fcd",
   "metadata": {},
   "outputs": [],
   "source": [
    "fig = plot_velocities(\n",
    "    sd,\n",
    "    velocity_results=love_velocities,\n",
    "    vmax=6000,  # optional\n",
    "    minors=True, # optional\n",
    "    cc_threshold=0.7,\n",
    ")\n"
   ]
  },
  {
   "cell_type": "code",
   "execution_count": null,
   "id": "41ee9927",
   "metadata": {},
   "outputs": [],
   "source": [
    "# Compute Love wave velocities\n",
    "love_velocities = sd.compute_velocities(\n",
    "    wave_type='love',\n",
    "    win_time_s=50.0,\n",
    "    overlap=0.5,\n",
    "    cc_threshold=0.,\n",
    "    method='ransac',\n",
    "    baz=ev['backazimuth']  # optional\n",
    ")"
   ]
  },
  {
   "cell_type": "code",
   "execution_count": null,
   "id": "8bc7a955",
   "metadata": {},
   "outputs": [],
   "source": [
    "fig = plot_velocities(\n",
    "    sd,\n",
    "    velocity_results=love_velocities,\n",
    "    vmax=6000,  # optional\n",
    "    minors=True, # optional\n",
    "    cc_threshold=0.7,\n",
    ")\n"
   ]
  },
  {
   "cell_type": "code",
   "execution_count": null,
   "id": "795e5dd5",
   "metadata": {},
   "outputs": [],
   "source": []
  }
 ],
 "metadata": {
  "kernelspec": {
   "display_name": "obs2",
   "language": "python",
   "name": "python3"
  },
  "language_info": {
   "codemirror_mode": {
    "name": "ipython",
    "version": 3
   },
   "file_extension": ".py",
   "mimetype": "text/x-python",
   "name": "python",
   "nbconvert_exporter": "python",
   "pygments_lexer": "ipython3",
   "version": "3.10.12"
  },
  "latex_envs": {
   "LaTeX_envs_menu_present": true,
   "autoclose": false,
   "autocomplete": true,
   "bibliofile": "biblio.bib",
   "cite_by": "apalike",
   "current_citInitial": 1,
   "eqLabelWithNumbers": true,
   "eqNumInitial": 1,
   "hotkeys": {
    "equation": "Ctrl-E",
    "itemize": "Ctrl-I"
   },
   "labels_anchors": false,
   "latex_user_defs": false,
   "report_style_numbering": false,
   "user_envs_cfg": false
  },
  "toc": {
   "base_numbering": 1,
   "nav_menu": {},
   "number_sections": true,
   "sideBar": true,
   "skip_h1_title": false,
   "title_cell": "Table of Contents",
   "title_sidebar": "Contents",
   "toc_cell": false,
   "toc_position": {},
   "toc_section_display": true,
   "toc_window_display": false
  },
  "varInspector": {
   "cols": {
    "lenName": 16,
    "lenType": 16,
    "lenVar": 40
   },
   "kernels_config": {
    "python": {
     "delete_cmd_postfix": "",
     "delete_cmd_prefix": "del ",
     "library": "var_list.py",
     "varRefreshCmd": "print(var_dic_list())"
    },
    "r": {
     "delete_cmd_postfix": ") ",
     "delete_cmd_prefix": "rm(",
     "library": "var_list.r",
     "varRefreshCmd": "cat(var_dic_list()) "
    }
   },
   "types_to_exclude": [
    "module",
    "function",
    "builtin_function_or_method",
    "instance",
    "_Feature"
   ],
   "window_display": false
  }
 },
 "nbformat": 4,
 "nbformat_minor": 5
}
